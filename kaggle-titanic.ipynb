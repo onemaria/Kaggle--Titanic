{
 "cells": [
  {
   "cell_type": "code",
   "execution_count": 148,
   "id": "02ae35fc",
   "metadata": {},
   "outputs": [],
   "source": [
    "import pandas as pd\n",
    "import seaborn as sns\n",
    "import numpy as np\n",
    "import matplotlib.pyplot as plt"
   ]
  },
  {
   "cell_type": "code",
   "execution_count": null,
   "id": "d34e8bd5",
   "metadata": {},
   "outputs": [],
   "source": [
    "data = pd.read_csv(\"train.csv\")\n",
    "test = pd.read_csv(\"test.csv\")\n",
    "test_ids = test[\"PassengerId\"]"
   ]
  },
  {
   "cell_type": "code",
   "execution_count": null,
   "id": "b2b5beeb",
   "metadata": {
    "scrolled": true
   },
   "outputs": [],
   "source": [
    "data.head(5)"
   ]
  },
  {
   "cell_type": "code",
   "execution_count": null,
   "id": "b790aa32",
   "metadata": {},
   "outputs": [],
   "source": [
    "data.hist(\"Age\")    "
   ]
  },
  {
   "cell_type": "code",
   "execution_count": null,
   "id": "8db502ec",
   "metadata": {},
   "outputs": [],
   "source": [
    "sns.displot(data['Age'])"
   ]
  },
  {
   "cell_type": "code",
   "execution_count": null,
   "id": "99a7e07b",
   "metadata": {},
   "outputs": [],
   "source": [
    "sns.countplot(x = 'Survived', data = data)"
   ]
  },
  {
   "cell_type": "code",
   "execution_count": null,
   "id": "c5e4526a",
   "metadata": {},
   "outputs": [],
   "source": [
    "sns.countplot(x = 'Survived', data = data, hue = 'Pclass')"
   ]
  },
  {
   "cell_type": "code",
   "execution_count": null,
   "id": "60f7ccae",
   "metadata": {},
   "outputs": [],
   "source": [
    "sns.countplot(x = 'Pclass', data = data, hue = 'SibSp')"
   ]
  },
  {
   "cell_type": "code",
   "execution_count": null,
   "id": "7388e4b7",
   "metadata": {},
   "outputs": [],
   "source": [
    "sns.boxplot(x = 'Pclass', y = 'Age', data = data)"
   ]
  },
  {
   "cell_type": "markdown",
   "id": "af303956",
   "metadata": {},
   "source": [
    "# Data Cleaning"
   ]
  },
  {
   "cell_type": "code",
   "execution_count": null,
   "id": "8c7807f0",
   "metadata": {},
   "outputs": [],
   "source": [
    "data.isnull().sum()"
   ]
  },
  {
   "cell_type": "code",
   "execution_count": null,
   "id": "2da30b46",
   "metadata": {},
   "outputs": [],
   "source": [
    "data.info()"
   ]
  },
  {
   "cell_type": "code",
   "execution_count": null,
   "id": "fb64b0e6",
   "metadata": {},
   "outputs": [],
   "source": [
    "print(data[data  ['Pclass'] == 1]['Age'].mean())\n",
    "print(data[data  ['Pclass'] == 2]['Age'].mean())\n",
    "print(data[data  ['Pclass'] == 3]['Age'].mean())"
   ]
  },
  {
   "cell_type": "code",
   "execution_count": null,
   "id": "5edad7c6",
   "metadata": {},
   "outputs": [],
   "source": [
    "def fill_na_values(cols):\n",
    "    age = cols[0]\n",
    "    pclass = cols[1]\n",
    "    \n",
    "    if pd.isnull(age):\n",
    "        if pclass == 1:\n",
    "            return round(data[data['Pclass'] == 1]['Age'].mean())\n",
    "        elif pclass == 2:\n",
    "            return round(data[data['Pclass'] == 2]['Age'].mean())\n",
    "        elif pclass == 3:\n",
    "            return round(data[data['Pclass'] == 3]['Age'].mean())\n",
    "    else:\n",
    "        return age\n",
    "\n",
    "data['Age'] = data[['Age', 'Pclass']].apply(fill_na_values, axis=1)\n",
    "test['Age'] = test[['Age', 'Pclass']].apply(fill_na_values, axis=1)\n",
    "\n",
    "            "
   ]
  },
  {
   "cell_type": "code",
   "execution_count": null,
   "id": "6451c692",
   "metadata": {},
   "outputs": [],
   "source": [
    "data.isnull().sum()"
   ]
  },
  {
   "cell_type": "code",
   "execution_count": null,
   "id": "9741d7bb",
   "metadata": {},
   "outputs": [],
   "source": [
    "sns.heatmap(data.isnull())"
   ]
  },
  {
   "cell_type": "code",
   "execution_count": null,
   "id": "24fa4eb0",
   "metadata": {
    "scrolled": true
   },
   "outputs": [],
   "source": [
    "data.drop(['Ticket', 'Name', 'PassengerId', 'Cabin'], axis=1, inplace=True)"
   ]
  },
  {
   "cell_type": "code",
   "execution_count": null,
   "id": "53fa434c",
   "metadata": {},
   "outputs": [],
   "source": [
    "test.drop(['Ticket', 'Name', 'PassengerId', 'Cabin'], axis=1, inplace=True)"
   ]
  },
  {
   "cell_type": "code",
   "execution_count": null,
   "id": "4f9a545a",
   "metadata": {},
   "outputs": [],
   "source": [
    "data.isnull().sum()"
   ]
  },
  {
   "cell_type": "code",
   "execution_count": null,
   "id": "ce96c5e8",
   "metadata": {},
   "outputs": [],
   "source": [
    "data.head(10)"
   ]
  },
  {
   "cell_type": "code",
   "execution_count": null,
   "id": "50ae2e05",
   "metadata": {},
   "outputs": [],
   "source": [
    "from sklearn import preprocessing\n",
    "le = preprocessing.LabelEncoder()\n",
    "\n",
    "cols = ['Sex']\n",
    "\n",
    "for col in cols:\n",
    "    data[col] = le.fit_transform(data[col])\n",
    "    test[col] = le.transform(test[col])\n",
    "    print(le.classes_)\n",
    "    \n",
    "# sex = pd.get_dummies(data['Sex'], drop_first=True)\n",
    "# data.drop = ['Sex'], axis=1, inplace=True)\n",
    "# data = pd.concat([data, sex], axis=1)"
   ]
  },
  {
   "cell_type": "code",
   "execution_count": null,
   "id": "42a6cdfc",
   "metadata": {},
   "outputs": [],
   "source": [
    "from sklearn import preprocessing\n",
    "le = preprocessing.LabelEncoder()\n",
    "\n",
    "cols = ['Embarked']\n",
    "\n",
    "for col in cols:\n",
    "    data[col] = le.fit_transform(data[col])\n",
    "    test[col] = le.transform(test[col])\n",
    "    print(le.classes_)\n",
    "\n",
    "# embarked = pd.get_dummies(data['Embarked'], drop_first= True)\n",
    "# data.drop = ['Embarked'], axis=1, inplace=True)\n",
    "# data = pd.concat([data, embarked], axis=1)"
   ]
  },
  {
   "cell_type": "code",
   "execution_count": null,
   "id": "be5cae1a",
   "metadata": {},
   "outputs": [],
   "source": [
    "data.head(5)"
   ]
  },
  {
   "cell_type": "code",
   "execution_count": null,
   "id": "37394418",
   "metadata": {},
   "outputs": [],
   "source": [
    "test.isnull().sum()"
   ]
  },
  {
   "cell_type": "code",
   "execution_count": null,
   "id": "f1effb30",
   "metadata": {},
   "outputs": [],
   "source": [
    "test['Fare'].fillna(test['Fare'].mean(), inplace=True)"
   ]
  },
  {
   "cell_type": "code",
   "execution_count": null,
   "id": "266913ae",
   "metadata": {},
   "outputs": [],
   "source": [
    "test.isnull().sum()"
   ]
  },
  {
   "cell_type": "markdown",
   "id": "625af36e",
   "metadata": {},
   "source": [
    "# Data Model"
   ]
  },
  {
   "cell_type": "markdown",
   "id": "5ea290c3",
   "metadata": {},
   "source": [
    "Split into Train and Test"
   ]
  },
  {
   "cell_type": "code",
   "execution_count": 131,
   "id": "51f85462",
   "metadata": {},
   "outputs": [],
   "source": [
    "from sklearn.model_selection import train_test_split\n",
    "\n",
    "y = data[\"Survived\"]\n",
    "X = data.drop(\"Survived\", axis=1)\n",
    "\n",
    "X_train, X_test, y_train, y_test = train_test_split(X, y, test_size = 0.1, random_state=42)"
   ]
  },
  {
   "cell_type": "markdown",
   "id": "dc906735",
   "metadata": {},
   "source": [
    "Logistic Regression"
   ]
  },
  {
   "cell_type": "code",
   "execution_count": 163,
   "id": "bce10a7f",
   "metadata": {},
   "outputs": [
    {
     "name": "stdout",
     "output_type": "stream",
     "text": [
      "              precision    recall  f1-score   support\n",
      "\n",
      "           0       0.90      0.85      0.88        54\n",
      "           1       0.79      0.86      0.83        36\n",
      "\n",
      "    accuracy                           0.86        90\n",
      "   macro avg       0.85      0.86      0.85        90\n",
      "weighted avg       0.86      0.86      0.86        90\n",
      "\n",
      "[[46  8]\n",
      " [ 5 31]]\n"
     ]
    }
   ],
   "source": [
    "from sklearn.linear_model import LogisticRegression\n",
    "\n",
    "lr = LogisticRegression(random_state=0, max_iter=1000)\n",
    "lr.fit(X_train, y_train)\n",
    "\n",
    "lr_predictions = lr.predict(X_test)\n",
    "\n",
    "print(classification_report(y_test, lr_predictions))\n",
    "print(confusion_matrix(y_test, lr_predictions))\n"
   ]
  },
  {
   "cell_type": "markdown",
   "id": "7ed9fc0e",
   "metadata": {},
   "source": [
    "MinMaxScaler"
   ]
  },
  {
   "cell_type": "code",
   "execution_count": null,
   "id": "2a58ff3a",
   "metadata": {},
   "outputs": [],
   "source": [
    "from sklearn.preprocessing import MinMaxScaler\n",
    "\n",
    "scaler = MinMaxScaler()\n",
    "X_train = scaler.fit_transform(X_train)\n",
    "X_test = scaler.transform(X_test)"
   ]
  },
  {
   "cell_type": "markdown",
   "id": "8b364e59",
   "metadata": {},
   "source": [
    "Support Vector Machine"
   ]
  },
  {
   "cell_type": "code",
   "execution_count": null,
   "id": "ca9e294a",
   "metadata": {
    "scrolled": false
   },
   "outputs": [],
   "source": [
    "from sklearn.svm import SVC\n",
    "\n",
    "svm = SVC()\n",
    "svm.fit(X_train, y_train)\n",
    "\n",
    "predictions = svm.predict(X_test)"
   ]
  },
  {
   "cell_type": "code",
   "execution_count": null,
   "id": "e161261b",
   "metadata": {},
   "outputs": [],
   "source": [
    "from sklearn.metrics import classification_report, confusion_matrix\n",
    "\n",
    "print(classification_report(y_test, predictions))\n",
    "print(confusion_matrix(y_test, predictions))\n"
   ]
  },
  {
   "cell_type": "markdown",
   "id": "66a8c70b",
   "metadata": {},
   "source": [
    "GridSearchCV"
   ]
  },
  {
   "cell_type": "code",
   "execution_count": null,
   "id": "c004becc",
   "metadata": {
    "scrolled": false
   },
   "outputs": [],
   "source": [
    "from sklearn.model_selection import GridSearchCV\n",
    "\n",
    "param_grid = {'C':[0.5, 1, 10, 50, 100, 1000], 'gamma':[1, 0.1, 0.001, 0.0001, 0.00001, 0.000001]}\n",
    "\n",
    "grid = GridSearchCV(SVC(), param_grid, refit=True, verbose=2)\n",
    "\n",
    "grid.fit(X_train, y_train)\n",
    "grid_predictions = grid.predict(X_test)"
   ]
  },
  {
   "cell_type": "code",
   "execution_count": 129,
   "id": "4f625380",
   "metadata": {},
   "outputs": [
    {
     "name": "stdout",
     "output_type": "stream",
     "text": [
      "              precision    recall  f1-score   support\n",
      "\n",
      "           0       0.88      0.85      0.87        54\n",
      "           1       0.79      0.83      0.81        36\n",
      "\n",
      "    accuracy                           0.84        90\n",
      "   macro avg       0.84      0.84      0.84        90\n",
      "weighted avg       0.85      0.84      0.85        90\n",
      "\n",
      "[[46  8]\n",
      " [ 6 30]]\n"
     ]
    }
   ],
   "source": [
    "print(classification_report(y_test, grid_predictions))\n",
    "print(confusion_matrix(y_test, grid_predictions))\n"
   ]
  },
  {
   "cell_type": "markdown",
   "id": "1057943b",
   "metadata": {},
   "source": [
    "K neighbours "
   ]
  },
  {
   "cell_type": "code",
   "execution_count": 157,
   "id": "24bb3a65",
   "metadata": {},
   "outputs": [
    {
     "name": "stdout",
     "output_type": "stream",
     "text": [
      "              precision    recall  f1-score   support\n",
      "\n",
      "           0       0.76      0.94      0.84        54\n",
      "           1       0.87      0.56      0.68        36\n",
      "\n",
      "    accuracy                           0.79        90\n",
      "   macro avg       0.82      0.75      0.76        90\n",
      "weighted avg       0.80      0.79      0.78        90\n",
      "\n",
      "[[51  3]\n",
      " [16 20]]\n"
     ]
    }
   ],
   "source": [
    "from sklearn.neighbors import KNeighborsClassifier\n",
    "\n",
    "error_list = []\n",
    "\n",
    "for i in range(1,40):\n",
    "    knn = KNeighborsClassifier(n_neighbors=i)\n",
    "    knn.fit(X_train, y_train)\n",
    "    knn_predictions = knn.predict(X_test)\n",
    "    error_list.append(np.mean(knn_predictions != y_test))\n",
    "\n",
    "i = np.argmin(error_list)\n",
    "knn = KNeighborsClassifier(n_neighbors=i)\n",
    "knn.fit(X_train, y_train)\n",
    "knn_predictions = knn.predict(X_test)\n",
    "\n",
    "print(classification_report(y_test, knn_predictions))\n",
    "print(confusion_matrix(y_test, knn_predictions))"
   ]
  },
  {
   "cell_type": "code",
   "execution_count": 154,
   "id": "0b3c15b0",
   "metadata": {},
   "outputs": [
    {
     "data": {
      "text/plain": [
       "12"
      ]
     },
     "execution_count": 154,
     "metadata": {},
     "output_type": "execute_result"
    },
    {
     "data": {
      "image/png": "[encoded data removed]",
      "text/plain": [
       "<Figure size 432x288 with 1 Axes>"
      ]
     },
     "metadata": {
      "needs_background": "light"
     },
     "output_type": "display_data"
    }
   ],
   "source": [
    "plt.plot(range(1,40), error_list)\n",
    "np.argmin(error_list)"
   ]
  },
  {
   "cell_type": "markdown",
   "id": "4ededf54",
   "metadata": {},
   "source": [
    "Decision Tree Classifier"
   ]
  },
  {
   "cell_type": "code",
   "execution_count": 160,
   "id": "b9f08c37",
   "metadata": {},
   "outputs": [
    {
     "name": "stdout",
     "output_type": "stream",
     "text": [
      "              precision    recall  f1-score   support\n",
      "\n",
      "           0       0.88      0.80      0.83        54\n",
      "           1       0.73      0.83      0.78        36\n",
      "\n",
      "    accuracy                           0.81        90\n",
      "   macro avg       0.80      0.81      0.81        90\n",
      "weighted avg       0.82      0.81      0.81        90\n",
      "\n",
      "[[43 11]\n",
      " [ 6 30]]\n"
     ]
    }
   ],
   "source": [
    "from sklearn.tree import DecisionTreeClassifier\n",
    "\n",
    "dt = DecisionTreeClassifier().fit(X_train, y_train)\n",
    "\n",
    "dt_predictions = dt.predict(X_test)\n",
    "\n",
    "print(classification_report(y_test, dt_predictions))\n",
    "print(confusion_matrix(y_test, dt_predictions))"
   ]
  },
  {
   "cell_type": "code",
   "execution_count": 162,
   "id": "8678fccc",
   "metadata": {},
   "outputs": [
    {
     "name": "stdout",
     "output_type": "stream",
     "text": [
      "              precision    recall  f1-score   support\n",
      "\n",
      "           0       0.88      0.83      0.86        54\n",
      "           1       0.77      0.83      0.80        36\n",
      "\n",
      "    accuracy                           0.83        90\n",
      "   macro avg       0.83      0.83      0.83        90\n",
      "weighted avg       0.84      0.83      0.83        90\n",
      "\n",
      "[[45  9]\n",
      " [ 6 30]]\n"
     ]
    }
   ],
   "source": [
    "from sklearn.ensemble import RandomForestClassifier\n",
    "\n",
    "rfc = RandomForestClassifier().fit(X_train, y_train)\n",
    "\n",
    "rfc_predictions = rfc.predict(X_test)\n",
    "\n",
    "print(classification_report(y_test, rfc_predictions))\n",
    "print(confusion_matrix(y_test, rfc_predictions))"
   ]
  },
  {
   "cell_type": "markdown",
   "id": "5a4e9ace",
   "metadata": {},
   "source": [
    "# Kaggle Submission"
   ]
  },
  {
   "cell_type": "code",
   "execution_count": 167,
   "id": "6ec8c6a9",
   "metadata": {},
   "outputs": [],
   "source": [
    "submission_preds = lr.predict(test)\n",
    "\n",
    "df = pd.DataFrame({\"PassengerId\": test_ids.values,\n",
    "                  \"Survived\" : submission_preds,\n",
    "                 })\n",
    "\n",
    "df.to_csv(\"submission_lr.csv\", index=False)"
   ]
  },
  {
   "cell_type": "code",
   "execution_count": 171,
   "id": "8ee7618a",
   "metadata": {},
   "outputs": [],
   "source": [
    "submission_preds = knn.predict(test)\n",
    "\n",
    "df = pd.DataFrame({\"PassengerId\": test_ids.values,\n",
    "                  \"Survived\" : submission_preds,\n",
    "                 })\n",
    "df.to_csv(\"submission_knn.csv\", index=False)"
   ]
  },
  {
   "cell_type": "code",
   "execution_count": null,
   "id": "380295d8",
   "metadata": {},
   "outputs": [],
   "source": []
  }
 ],
 "metadata": {
  "kernelspec": {
   "display_name": "Python 3 (ipykernel)",
   "language": "python",
   "name": "python3"
  },
  "language_info": {
   "codemirror_mode": {
    "name": "ipython",
    "version": 3
   },
   "file_extension": ".py",
   "mimetype": "text/x-python",
   "name": "python",
   "nbconvert_exporter": "python",
   "pygments_lexer": "ipython3",
   "version": "3.9.7"
  }
 },
 "nbformat": 4,
 "nbformat_minor": 5
}
